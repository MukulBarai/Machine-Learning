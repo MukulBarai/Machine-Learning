{
 "cells": [
  {
   "cell_type": "code",
   "execution_count": 3,
   "id": "c3487915",
   "metadata": {},
   "outputs": [],
   "source": [
    "# importing the libraries\n",
    "import numpy as np\n",
    "import pandas as pd \n",
    "import pandas as pd"
   ]
  },
  {
   "cell_type": "code",
   "execution_count": 21,
   "id": "aa826ffb",
   "metadata": {},
   "outputs": [],
   "source": [
    "# definging layer class\n",
    "class Layer:\n",
    "    def __init__(self, row, col):\n",
    "        self.input = None\n",
    "        self.output = None\n",
    "        self.init(row, col)\n",
    "    \n",
    "    def init(self, row, col):\n",
    "        self.weights = np.random.randn(row, col)\n",
    "        self.biases = np.zeros(row)\n",
    "    \n",
    "    def activation(self, outputs):\n",
    "        outputs = np.clip(outputs, -500, 500)\n",
    "        return 1/(1 + np.exp(-outputs))\n",
    "    \n",
    "    def feedForward(self, input):\n",
    "        # storing the inputs as outputs for using in backpropagations\n",
    "        self.input = input\n",
    "        output = np.dot(input, self.weights.T) + self.biases\n",
    "        self.output = self.activation(output)\n",
    "        return self.output\n",
    "    \n",
    "    def backPropagation(self, errorWRTout, learningR):\n",
    "        # Backpropagation for the output layer\n",
    "        errorWRTnet = self.output * (1 - self.output) * errorWRTout\n",
    "        errorWRTweight = np.transpose([errorWRTnet]) * self.input\n",
    "        errorWRTinput = np.dot(errorWRTnet, self.weights)\n",
    "        self.weights -= learningR * errorWRTweight\n",
    "        self.biases -= learningR * errorWRTnet\n",
    "        return errorWRTinput"
   ]
  },
  {
   "cell_type": "code",
   "execution_count": 22,
   "id": "56b28645",
   "metadata": {},
   "outputs": [],
   "source": [
    "class NeuralNetwork:\n",
    "    def __init__(self, sizes):\n",
    "        self.sizes = sizes\n",
    "        self.layers = []\n",
    "        self.epochs = 1\n",
    "        self.learningR = .001\n",
    "    \n",
    "    def initLayers(self):\n",
    "        # Initializing all layers\n",
    "        self.layers.append(Layer(self.sizes[0], 1))\n",
    "        for i in range(1, len(self.sizes)):\n",
    "            layer = Layer(self.sizes[i], self.sizes[i-1])\n",
    "            self.layers.append(layer)\n",
    "\n",
    "    def setLearningRate(self, learningR):\n",
    "        self.learningR = learningR\n",
    "\n",
    "    def setEpoch(self, epochs):\n",
    "        self.epochs = epochs\n",
    "    \n",
    "    # function to calculate mean squared error\n",
    "    def claculateError(self, output, target):\n",
    "        error = np.square(np.subtract(target, output)).mean()\n",
    "        return error\n",
    "    \n",
    "    def predict(self, input):\n",
    "        output = input\n",
    "        for layer in self.layers[1:]:\n",
    "            output = layer.feedForward(output)\n",
    "        return output\n",
    "    \n",
    "    def updateWeight(self, errorWRTout):\n",
    "        for layer in reversed(self.layers[1:]):\n",
    "            errorWRTout = layer.backPropagation(errorWRTout, self.learningR)\n",
    "\n",
    "    def trainOneEpoch(self, inputs, targets):\n",
    "        for input, target in zip(inputs, targets):\n",
    "            output = self.predict(input)\n",
    "            errorWRTout = output - target\n",
    "            self.updateWeight(errorWRTout)\n",
    "\n",
    "            \n",
    "    def trainModel(self, inputs, targets):\n",
    "        for i in range(self.epochs):\n",
    "            self.trainOneEpoch(inputs, targets)"
   ]
  },
  {
   "cell_type": "code",
   "execution_count": 16,
   "id": "2684cb90",
   "metadata": {},
   "outputs": [],
   "source": [
    "# loading the training dataset\n",
    "df = pd.read_csv('./dataset/mnist_train.csv')"
   ]
  },
  {
   "cell_type": "code",
   "execution_count": 23,
   "metadata": {},
   "outputs": [],
   "source": [
    "# seperating label and features data\n",
    "labels = df.iloc[:, 0].values\n",
    "inputs = df.iloc[:, 1:].values\n",
    "\n",
    "# converting labels to one hot\n",
    "oneHots = np.zeros((labels.size, 10))\n",
    "rows = np.arange(labels.size)\n",
    "oneHots[rows, labels] = 1"
   ]
  },
  {
   "cell_type": "code",
   "execution_count": 26,
   "id": "f01a8457",
   "metadata": {},
   "outputs": [],
   "source": [
    "# main part of building the model\n",
    "network = NeuralNetwork([784, 50, 50, 50, 50, 10])\n",
    "network.initLayers()\n",
    "network.setEpoch(20)\n",
    "network.setLearningRate(.01)\n",
    "network.trainModel(inputs, oneHots)"
   ]
  },
  {
   "cell_type": "code",
   "execution_count": 32,
   "id": "69811027",
   "metadata": {},
   "outputs": [],
   "source": [
    "# running the training again manually\n",
    "network.setLearningRate(10)\n",
    "network.trainModel(inputs, oneHots)"
   ]
  },
  {
   "cell_type": "code",
   "execution_count": null,
   "id": "834ac1e4",
   "metadata": {},
   "outputs": [],
   "source": [
    "# printing error of the model\n",
    "for input, label in zip(inputs, oneHots):\n",
    "    output = network.predict(input)\n",
    "    print(network.claculateError(output, label))"
   ]
  },
  {
   "cell_type": "code",
   "execution_count": 28,
   "id": "377e46cd",
   "metadata": {},
   "outputs": [],
   "source": [
    "# import dataset for testing\n",
    "df2 = pd.read_csv('./dataset/mnist_test.csv')"
   ]
  },
  {
   "cell_type": "code",
   "execution_count": 29,
   "id": "ed112199",
   "metadata": {},
   "outputs": [],
   "source": [
    "# seperating the features and labels\n",
    "labels2 = df2.iloc[:100, 0].values\n",
    "inputs2 = df2.iloc[:100, 1:].values"
   ]
  },
  {
   "cell_type": "code",
   "execution_count": null,
   "id": "c01c0f1f",
   "metadata": {},
   "outputs": [],
   "source": [
    "# testing the model\n",
    "for input, label in zip(inputs2, labels2):\n",
    "    output = network.predict(input)\n",
    "    print('label:', label, 'result:', np.argmax(output))\n"
   ]
  }
 ],
 "metadata": {
  "kernelspec": {
   "display_name": "Python 3.10.5 64-bit",
   "language": "python",
   "name": "python3"
  },
  "language_info": {
   "codemirror_mode": {
    "name": "ipython",
    "version": 3
   },
   "file_extension": ".py",
   "mimetype": "text/x-python",
   "name": "python",
   "nbconvert_exporter": "python",
   "pygments_lexer": "ipython3",
   "version": "3.10.5"
  },
  "vscode": {
   "interpreter": {
    "hash": "5b3eec6905afc42fe5cdadc178736cc93ef800e9ca9362a6d50a5159adfbee55"
   }
  }
 },
 "nbformat": 4,
 "nbformat_minor": 5
}
