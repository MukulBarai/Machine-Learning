{
 "cells": [
  {
   "cell_type": "code",
   "execution_count": 16,
   "id": "c3487915",
   "metadata": {},
   "outputs": [],
   "source": [
    "import numpy as np\n",
    "import pandas as pd "
   ]
  },
  {
   "cell_type": "code",
   "execution_count": 17,
   "id": "aa826ffb",
   "metadata": {},
   "outputs": [],
   "source": [
    "class Layer:\n",
    "    def __init__(self, row, col):\n",
    "        self.outputs = []\n",
    "        self.errorWRTnet = []\n",
    "        self.gradiants = []\n",
    "        self.init(row, col)\n",
    "    \n",
    "    def init(self, row, col):\n",
    "        self.weights = np.random.rand(row, col)\n",
    "        self.biases = np.zeros(row)"
   ]
  },
  {
   "cell_type": "code",
   "execution_count": 18,
   "id": "56b28645",
   "metadata": {},
   "outputs": [],
   "source": [
    "class NeuralNetwork:\n",
    "    def __init__(self, sizes):\n",
    "        self.sizes = sizes\n",
    "        self.layers = []\n",
    "    \n",
    "    def initLayers(self):\n",
    "        # Initializing all layers\n",
    "        for i in range(len(self.sizes)):\n",
    "            layer = Layer(self.sizes[i], self.sizes[i-1])\n",
    "            self.layers.append(layer)\n",
    "\n",
    "    def setLearningRate(self, learningR):\n",
    "        self.learningR = learningR\n",
    "\n",
    "    def setEpoch(self, epoch):\n",
    "        self.epoch = epoch\n",
    "    \n",
    "    def feedForward(self, input):\n",
    "        # feeding all layers\n",
    "        outputs = input\n",
    "        self.layers[0].outputs = outputs\n",
    "        for i in range(1, len(self.sizes)):\n",
    "            outputs = np.dot(outputs, self.layers[i].weights.T)\n",
    "            outputs = self.activation(outputs)\n",
    "            self.layers[i].outputs = outputs\n",
    "        \n",
    "        return outputs\n",
    "    \n",
    "    def activation(self, outputs):\n",
    "        outputs = np.clip(outputs, -500, 500)\n",
    "        return 1/(1 + np.exp(-outputs))\n",
    "    \n",
    "    def claculateError(self, outputs, targets):\n",
    "        error = np.square(np.subtract(targets, outputs)).mean()\n",
    "        return error\n",
    "    \n",
    "    def backPropagation(self, outputs, targets):\n",
    "        # Backpropagation for the output layer\n",
    "        errorWRToutput = np.subtract(targets, outputs)\n",
    "        outWRTnet = np.multiply(outputs, np.subtract(1, outputs))\n",
    "        errorWRTnet = np.multiply(errorWRToutput, outWRTnet)\n",
    "        self.layers[len(self.sizes)-1].errorWRTnet = errorWRTnet\n",
    "        netWRTweight = self.layers[len(self.sizes)-2].outputs\n",
    "        errorWRTweight = np.multiply(netWRTweight, np.transpose([errorWRTnet]))\n",
    "        self.layers[len(self.sizes)-1].gradiants = errorWRTweight\n",
    "\n",
    "        # Backpropagation for the hidden layers\n",
    "        for i in reversed(range(1, len(self.sizes)-1)):\n",
    "            errorWRToutput = np.dot(self.layers[i+1].errorWRTnet, self.layers[i+1].weights)\n",
    "            outWRTnet = np.multiply(self.layers[i].outputs, np.subtract(1, self.layers[i].outputs))\n",
    "            errorWRTnet = np.multiply(errorWRToutput, outWRTnet)\n",
    "            self.layers[i].errorWRTnet = errorWRTnet\n",
    "            netWRTweight = self.layers[i-1].outputs\n",
    "            errorWRTweight = np.multiply(errorWRTnet, np.transpose([netWRTweight]))\n",
    "            self.layers[i].gradiants = errorWRTweight\n",
    "        \n",
    "        self.updateWeights()\n",
    "\n",
    "    def updateWeights(self):\n",
    "        for i in reversed(range(1, len(self.sizes))):\n",
    "            np.subtract(self.layers[i].weights, self.layers[i].gradiants)\n",
    "    \n",
    "    def trainModel(self, inputs, targets):\n",
    "        for i in range(self.epoch):\n",
    "            for input, target in zip(inputs, targets):\n",
    "                output = self.feedForward(input)\n",
    "                self.backPropagation(output, target)\n",
    "        print('Training completed')\n",
    "    \n",
    "    def predict(self, inputs):\n",
    "        return self.feedForward(inputs)"
   ]
  },
  {
   "cell_type": "code",
   "execution_count": 19,
   "id": "f01a8457",
   "metadata": {},
   "outputs": [
    {
     "ename": "ValueError",
     "evalue": "operands could not be broadcast together with shapes (4,5) (5,4) ",
     "output_type": "error",
     "traceback": [
      "\u001b[1;31m---------------------------------------------------------------------------\u001b[0m",
      "\u001b[1;31mValueError\u001b[0m                                Traceback (most recent call last)",
      "\u001b[1;32mc:\\Users\\mukul\\Desktop\\Projects\\Neural Network copy 2.ipynb Cell 4\u001b[0m in \u001b[0;36m<cell line: 7>\u001b[1;34m()\u001b[0m\n\u001b[0;32m      <a href='vscode-notebook-cell:/c%3A/Users/mukul/Desktop/Projects/Neural%20Network%20copy%202.ipynb#W3sZmlsZQ%3D%3D?line=4'>5</a>\u001b[0m network\u001b[39m.\u001b[39msetEpoch(\u001b[39m5\u001b[39m)\n\u001b[0;32m      <a href='vscode-notebook-cell:/c%3A/Users/mukul/Desktop/Projects/Neural%20Network%20copy%202.ipynb#W3sZmlsZQ%3D%3D?line=5'>6</a>\u001b[0m network\u001b[39m.\u001b[39msetLearningRate(\u001b[39m.01\u001b[39m)\n\u001b[1;32m----> <a href='vscode-notebook-cell:/c%3A/Users/mukul/Desktop/Projects/Neural%20Network%20copy%202.ipynb#W3sZmlsZQ%3D%3D?line=6'>7</a>\u001b[0m network\u001b[39m.\u001b[39;49mtrainModel(inputs, targets)\n\u001b[0;32m      <a href='vscode-notebook-cell:/c%3A/Users/mukul/Desktop/Projects/Neural%20Network%20copy%202.ipynb#W3sZmlsZQ%3D%3D?line=7'>8</a>\u001b[0m \u001b[39mfor\u001b[39;00m i \u001b[39min\u001b[39;00m \u001b[39mrange\u001b[39m(\u001b[39m1\u001b[39m, \u001b[39mlen\u001b[39m(network\u001b[39m.\u001b[39msizes)):\n\u001b[0;32m      <a href='vscode-notebook-cell:/c%3A/Users/mukul/Desktop/Projects/Neural%20Network%20copy%202.ipynb#W3sZmlsZQ%3D%3D?line=8'>9</a>\u001b[0m     \u001b[39mprint\u001b[39m(network\u001b[39m.\u001b[39mlayers[i]\u001b[39m.\u001b[39mgradiants)\n",
      "\u001b[1;32mc:\\Users\\mukul\\Desktop\\Projects\\Neural Network copy 2.ipynb Cell 4\u001b[0m in \u001b[0;36mNeuralNetwork.trainModel\u001b[1;34m(self, inputs, targets)\u001b[0m\n\u001b[0;32m     <a href='vscode-notebook-cell:/c%3A/Users/mukul/Desktop/Projects/Neural%20Network%20copy%202.ipynb#W3sZmlsZQ%3D%3D?line=64'>65</a>\u001b[0m     \u001b[39mfor\u001b[39;00m \u001b[39minput\u001b[39m, target \u001b[39min\u001b[39;00m \u001b[39mzip\u001b[39m(inputs, targets):\n\u001b[0;32m     <a href='vscode-notebook-cell:/c%3A/Users/mukul/Desktop/Projects/Neural%20Network%20copy%202.ipynb#W3sZmlsZQ%3D%3D?line=65'>66</a>\u001b[0m         output \u001b[39m=\u001b[39m \u001b[39mself\u001b[39m\u001b[39m.\u001b[39mfeedForward(\u001b[39minput\u001b[39m)\n\u001b[1;32m---> <a href='vscode-notebook-cell:/c%3A/Users/mukul/Desktop/Projects/Neural%20Network%20copy%202.ipynb#W3sZmlsZQ%3D%3D?line=66'>67</a>\u001b[0m         \u001b[39mself\u001b[39;49m\u001b[39m.\u001b[39;49mbackPropagation(output, target)\n\u001b[0;32m     <a href='vscode-notebook-cell:/c%3A/Users/mukul/Desktop/Projects/Neural%20Network%20copy%202.ipynb#W3sZmlsZQ%3D%3D?line=67'>68</a>\u001b[0m \u001b[39mprint\u001b[39m(\u001b[39m'\u001b[39m\u001b[39mTraining completed\u001b[39m\u001b[39m'\u001b[39m)\n",
      "\u001b[1;32mc:\\Users\\mukul\\Desktop\\Projects\\Neural Network copy 2.ipynb Cell 4\u001b[0m in \u001b[0;36mNeuralNetwork.backPropagation\u001b[1;34m(self, outputs, targets)\u001b[0m\n\u001b[0;32m     <a href='vscode-notebook-cell:/c%3A/Users/mukul/Desktop/Projects/Neural%20Network%20copy%202.ipynb#W3sZmlsZQ%3D%3D?line=53'>54</a>\u001b[0m     errorWRTweight \u001b[39m=\u001b[39m np\u001b[39m.\u001b[39mmultiply(errorWRTnet, np\u001b[39m.\u001b[39mtranspose([netWRTweight]))\n\u001b[0;32m     <a href='vscode-notebook-cell:/c%3A/Users/mukul/Desktop/Projects/Neural%20Network%20copy%202.ipynb#W3sZmlsZQ%3D%3D?line=54'>55</a>\u001b[0m     \u001b[39mself\u001b[39m\u001b[39m.\u001b[39mlayers[i]\u001b[39m.\u001b[39mgradiants \u001b[39m=\u001b[39m errorWRTweight\n\u001b[1;32m---> <a href='vscode-notebook-cell:/c%3A/Users/mukul/Desktop/Projects/Neural%20Network%20copy%202.ipynb#W3sZmlsZQ%3D%3D?line=56'>57</a>\u001b[0m \u001b[39mself\u001b[39;49m\u001b[39m.\u001b[39;49mupdateWeights()\n",
      "\u001b[1;32mc:\\Users\\mukul\\Desktop\\Projects\\Neural Network copy 2.ipynb Cell 4\u001b[0m in \u001b[0;36mNeuralNetwork.updateWeights\u001b[1;34m(self)\u001b[0m\n\u001b[0;32m     <a href='vscode-notebook-cell:/c%3A/Users/mukul/Desktop/Projects/Neural%20Network%20copy%202.ipynb#W3sZmlsZQ%3D%3D?line=58'>59</a>\u001b[0m \u001b[39mdef\u001b[39;00m \u001b[39mupdateWeights\u001b[39m(\u001b[39mself\u001b[39m):\n\u001b[0;32m     <a href='vscode-notebook-cell:/c%3A/Users/mukul/Desktop/Projects/Neural%20Network%20copy%202.ipynb#W3sZmlsZQ%3D%3D?line=59'>60</a>\u001b[0m     \u001b[39mfor\u001b[39;00m i \u001b[39min\u001b[39;00m \u001b[39mreversed\u001b[39m(\u001b[39mrange\u001b[39m(\u001b[39m1\u001b[39m, \u001b[39mlen\u001b[39m(\u001b[39mself\u001b[39m\u001b[39m.\u001b[39msizes))):\n\u001b[1;32m---> <a href='vscode-notebook-cell:/c%3A/Users/mukul/Desktop/Projects/Neural%20Network%20copy%202.ipynb#W3sZmlsZQ%3D%3D?line=60'>61</a>\u001b[0m         np\u001b[39m.\u001b[39;49msubtract(\u001b[39mself\u001b[39;49m\u001b[39m.\u001b[39;49mlayers[i]\u001b[39m.\u001b[39;49mweights, \u001b[39mself\u001b[39;49m\u001b[39m.\u001b[39;49mlayers[i]\u001b[39m.\u001b[39;49mgradiants)\n",
      "\u001b[1;31mValueError\u001b[0m: operands could not be broadcast together with shapes (4,5) (5,4) "
     ]
    }
   ],
   "source": [
    "inputs = [np.random.rand(5)]\n",
    "targets = [[0, 1, 0]]\n",
    "network = NeuralNetwork([5, 4, 4, 4, 3])\n",
    "network.initLayers()\n",
    "network.setEpoch(5)\n",
    "network.setLearningRate(.01)\n",
    "network.trainModel(inputs, targets)\n",
    "for i in range(1, len(network.sizes)):\n",
    "    print(network.layers[i].gradiants)"
   ]
  }
 ],
 "metadata": {
  "kernelspec": {
   "display_name": "Python 3.10.5 64-bit",
   "language": "python",
   "name": "python3"
  },
  "language_info": {
   "codemirror_mode": {
    "name": "ipython",
    "version": 3
   },
   "file_extension": ".py",
   "mimetype": "text/x-python",
   "name": "python",
   "nbconvert_exporter": "python",
   "pygments_lexer": "ipython3",
   "version": "3.10.5"
  },
  "vscode": {
   "interpreter": {
    "hash": "5b3eec6905afc42fe5cdadc178736cc93ef800e9ca9362a6d50a5159adfbee55"
   }
  }
 },
 "nbformat": 4,
 "nbformat_minor": 5
}
