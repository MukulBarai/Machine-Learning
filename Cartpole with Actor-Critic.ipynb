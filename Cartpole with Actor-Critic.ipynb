{
 "cells": [
  {
   "cell_type": "code",
   "execution_count": null,
   "metadata": {},
   "outputs": [],
   "source": [
    "import gym\n",
    "from keras.models import Sequential\n",
    "from keras.layers import Dense, Input\n",
    "import numpy as np\n",
    "import tensorflow as tf\n",
    "import math\n",
    "from keras import backend"
   ]
  },
  {
   "cell_type": "code",
   "execution_count": null,
   "metadata": {},
   "outputs": [],
   "source": [
    "env = gym.make('CartPole-v1')"
   ]
  },
  {
   "cell_type": "code",
   "execution_count": null,
   "metadata": {},
   "outputs": [],
   "source": [
    "# Creating the actor critic model\n",
    "\n",
    "def customLoss(yTrue, yPred):\n",
    "    out = backend.clip(yPred, 1e-8, 1)\n",
    "    yLik = -backend.log(out)*yTrue\n",
    "    return backend.sum(yLik)\n",
    "\n",
    "def createActor(inputSize, outputSize):\n",
    "    model = Sequential()\n",
    "    model.add(Input(shape=(inputSize,)))\n",
    "    model.add(Dense(20, activation='relu'))\n",
    "    model.add(Dense(20, activation='relu'))\n",
    "    model.add(Dense(outputSize, activation='softmax'))\n",
    "    model.compile(optimizer='adam', \n",
    "        loss=customLoss,\n",
    "        metrics=['accuracy']\n",
    "    )\n",
    "    return model\n",
    "\n",
    "def createCritic(inputSize, outputSize):\n",
    "    model = Sequential()\n",
    "    model.add(Input(shape=(inputSize,)))\n",
    "    model.add(Dense(50, activation='relu'))\n",
    "    model.add(Dense(50, activation='relu'))\n",
    "    model.add(Dense(outputSize, activation='linear'))\n",
    "    model.compile(optimizer='adam', \n",
    "        loss='mean_squared_error',\n",
    "        metrics=['accuracy']\n",
    "    )\n",
    "    return model"
   ]
  },
  {
   "cell_type": "code",
   "execution_count": null,
   "metadata": {},
   "outputs": [],
   "source": [
    "# Running the main loop\n",
    "EPISODES = 100\n",
    "GAMMA = 0.99\n",
    "inputSize = env.observation_space.shape[0]\n",
    "actionSize = env.action_space.n\n",
    "actor = createActor(inputSize, actionSize)\n",
    "critic = createCritic(inputSize, 1)\n",
    "\n",
    "def train(curState, action, nextState, reward, done):\n",
    "    curState = curState[np.newaxis,:]\n",
    "    nextState = nextState[np.newaxis,:]\n",
    "    action = np.argmax(action)\n",
    "    \n",
    "    curValue = critic.predict(curState, verbose=0)[0]\n",
    "    nextValue = critic.predict(nextState, verbose=0)[0]\n",
    "    target = reward + GAMMA * (1-int(done)) * nextValue\n",
    "    critic.fit(curState, target, verbose=0)\n",
    "    delta = target - curValue\n",
    "\n",
    "    actions = np.zeros(actionSize)\n",
    "    actions[action] = -delta\n",
    "    actor.fit(curState, actions[np.newaxis,:], verbose=0)\n",
    "\n",
    "for i in range(EPISODES):\n",
    "    observation = env.reset()\n",
    "    rewards = 0\n",
    "    done = False\n",
    "    while not done:\n",
    "        env.render()\n",
    "        action = actor.predict(observation[np.newaxis,:], verbose=0)[0]\n",
    "        nextState, reward, done, info = env.step(np.argmax(action))\n",
    "        train(observation, action, nextState, reward, done)\n",
    "        rewards += reward\n",
    "        observation = nextState\n",
    "    print('Episode', i, 'Rewards:', rewards)\n",
    "env.close()"
   ]
  }
 ],
 "metadata": {
  "kernelspec": {
   "display_name": "Python 3.10.5 64-bit",
   "language": "python",
   "name": "python3"
  },
  "language_info": {
   "codemirror_mode": {
    "name": "ipython",
    "version": 3
   },
   "file_extension": ".py",
   "mimetype": "text/x-python",
   "name": "python",
   "nbconvert_exporter": "python",
   "pygments_lexer": "ipython3",
   "version": "3.10.5"
  },
  "orig_nbformat": 4,
  "vscode": {
   "interpreter": {
    "hash": "5b3eec6905afc42fe5cdadc178736cc93ef800e9ca9362a6d50a5159adfbee55"
   }
  }
 },
 "nbformat": 4,
 "nbformat_minor": 2
}
